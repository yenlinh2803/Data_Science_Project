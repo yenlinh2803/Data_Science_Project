{
 "cells": [
  {
   "cell_type": "code",
   "execution_count": 1,
   "metadata": {},
   "outputs": [],
   "source": [
    "import pandas as pd\n",
    "import numpy as np\n",
    "import datetime\n"
   ]
  },
  {
   "cell_type": "code",
   "execution_count": 2,
   "metadata": {},
   "outputs": [
    {
     "name": "stdout",
     "output_type": "stream",
     "text": [
      "Execution time: 0:00:59.830639\n"
     ]
    },
    {
     "data": {
      "text/html": [
       "<div>\n",
       "<style scoped>\n",
       "    .dataframe tbody tr th:only-of-type {\n",
       "        vertical-align: middle;\n",
       "    }\n",
       "\n",
       "    .dataframe tbody tr th {\n",
       "        vertical-align: top;\n",
       "    }\n",
       "\n",
       "    .dataframe thead th {\n",
       "        text-align: right;\n",
       "    }\n",
       "</style>\n",
       "<table border=\"1\" class=\"dataframe\">\n",
       "  <thead>\n",
       "    <tr style=\"text-align: right;\">\n",
       "      <th></th>\n",
       "      <th>itemid</th>\n",
       "      <th>shopid</th>\n",
       "      <th>item_name</th>\n",
       "      <th>item_description</th>\n",
       "      <th>item_variation</th>\n",
       "      <th>price</th>\n",
       "      <th>stock</th>\n",
       "      <th>category</th>\n",
       "      <th>cb_option</th>\n",
       "      <th>is_preferred</th>\n",
       "      <th>sold_count</th>\n",
       "      <th>item_creation_date</th>\n",
       "    </tr>\n",
       "  </thead>\n",
       "  <tbody>\n",
       "    <tr>\n",
       "      <th>0</th>\n",
       "      <td>1925574</td>\n",
       "      <td>210000</td>\n",
       "      <td>Golden mobile numbers</td>\n",
       "      <td>Unregistered prepaid cards1) 93355333  selling...</td>\n",
       "      <td>{}</td>\n",
       "      <td>400.0</td>\n",
       "      <td>1</td>\n",
       "      <td>Mobile &amp; Gadgets</td>\n",
       "      <td>0</td>\n",
       "      <td>0</td>\n",
       "      <td>0</td>\n",
       "      <td>2015-10-01 00:24:42</td>\n",
       "    </tr>\n",
       "    <tr>\n",
       "      <th>1</th>\n",
       "      <td>1925617</td>\n",
       "      <td>210000</td>\n",
       "      <td>Golden mobile numbers</td>\n",
       "      <td>Unregistered prepaid cards1) 93355888  selling...</td>\n",
       "      <td>{}</td>\n",
       "      <td>400.0</td>\n",
       "      <td>1</td>\n",
       "      <td>Mobile &amp; Gadgets</td>\n",
       "      <td>0</td>\n",
       "      <td>0</td>\n",
       "      <td>0</td>\n",
       "      <td>2015-10-01 00:26:37</td>\n",
       "    </tr>\n",
       "    <tr>\n",
       "      <th>2</th>\n",
       "      <td>943600</td>\n",
       "      <td>210000</td>\n",
       "      <td>Golden Mobile Numbers</td>\n",
       "      <td>Unregistered prepaid cards. Can port to post p...</td>\n",
       "      <td>{}</td>\n",
       "      <td>8.0</td>\n",
       "      <td>1</td>\n",
       "      <td>Mobile &amp; Gadgets</td>\n",
       "      <td>0</td>\n",
       "      <td>0</td>\n",
       "      <td>0</td>\n",
       "      <td>2015-08-25 21:02:13</td>\n",
       "    </tr>\n",
       "    <tr>\n",
       "      <th>3</th>\n",
       "      <td>1064405</td>\n",
       "      <td>210000</td>\n",
       "      <td>Golden Mobile Numbers</td>\n",
       "      <td>Unregistered prepaid cards. Can port to post p...</td>\n",
       "      <td>{}</td>\n",
       "      <td>8.0</td>\n",
       "      <td>1</td>\n",
       "      <td>Mobile &amp; Gadgets</td>\n",
       "      <td>0</td>\n",
       "      <td>0</td>\n",
       "      <td>0</td>\n",
       "      <td>2015-08-30 20:16:07</td>\n",
       "    </tr>\n",
       "    <tr>\n",
       "      <th>4</th>\n",
       "      <td>20046620</td>\n",
       "      <td>760000</td>\n",
       "      <td>101% AUTHENTIC BASEBALL CAPS</td>\n",
       "      <td>PREORDER Takes about 23 weeks to arrive, will ...</td>\n",
       "      <td>{NEWERA BLACK: 35.0, NIKE SWOOSH DENIM: 35.0, ...</td>\n",
       "      <td>35.0</td>\n",
       "      <td>300</td>\n",
       "      <td>Women's Apparel</td>\n",
       "      <td>0</td>\n",
       "      <td>0</td>\n",
       "      <td>0</td>\n",
       "      <td>2016-05-09 01:14:34</td>\n",
       "    </tr>\n",
       "  </tbody>\n",
       "</table>\n",
       "</div>"
      ],
      "text/plain": [
       "     itemid  shopid                     item_name  \\\n",
       "0   1925574  210000         Golden mobile numbers   \n",
       "1   1925617  210000         Golden mobile numbers   \n",
       "2    943600  210000         Golden Mobile Numbers   \n",
       "3   1064405  210000         Golden Mobile Numbers   \n",
       "4  20046620  760000  101% AUTHENTIC BASEBALL CAPS   \n",
       "\n",
       "                                    item_description  \\\n",
       "0  Unregistered prepaid cards1) 93355333  selling...   \n",
       "1  Unregistered prepaid cards1) 93355888  selling...   \n",
       "2  Unregistered prepaid cards. Can port to post p...   \n",
       "3  Unregistered prepaid cards. Can port to post p...   \n",
       "4  PREORDER Takes about 23 weeks to arrive, will ...   \n",
       "\n",
       "                                      item_variation  price  stock  \\\n",
       "0                                                 {}  400.0      1   \n",
       "1                                                 {}  400.0      1   \n",
       "2                                                 {}    8.0      1   \n",
       "3                                                 {}    8.0      1   \n",
       "4  {NEWERA BLACK: 35.0, NIKE SWOOSH DENIM: 35.0, ...   35.0    300   \n",
       "\n",
       "           category  cb_option  is_preferred  sold_count  item_creation_date  \n",
       "0  Mobile & Gadgets          0             0           0 2015-10-01 00:24:42  \n",
       "1  Mobile & Gadgets          0             0           0 2015-10-01 00:26:37  \n",
       "2  Mobile & Gadgets          0             0           0 2015-08-25 21:02:13  \n",
       "3  Mobile & Gadgets          0             0           0 2015-08-30 20:16:07  \n",
       "4   Women's Apparel          0             0           0 2016-05-09 01:14:34  "
      ]
     },
     "execution_count": 2,
     "metadata": {},
     "output_type": "execute_result"
    }
   ],
   "source": [
    "t0 = datetime.datetime.now()\n",
    "data = pd.read_excel (\"Test_Pandas.xlsx\")\n",
    "t1 = datetime.datetime.now()\n",
    "print('Execution time: {}'.format(t1 - t0))\n",
    "data.head()"
   ]
  },
  {
   "cell_type": "code",
   "execution_count": null,
   "metadata": {},
   "outputs": [],
   "source": [
    "'''\n",
    "Itemid  - a unique ID of the product\n",
    "Shopid - a unique ID of the shop\n",
    "item_name - product title  \n",
    "item_description - detailed  product description\n",
    "item_variation - stores variations of a product (e.g. different colours or sizes, in the format like {variation 1 name: variation 1 price, variation 2 name: variation 2 price})\n",
    "price - how much does the item sold\n",
    "stock - how many stocks left \n",
    "category - which category does the product belongs to \n",
    "cb_option - 1 indicates the product is sold by a cross border shop\n",
    "is_preferred - 1 indicates the product is sold by a preferred shop\n",
    "sold_count - how many products have been sold \n",
    "item_creation_date - when are the product uploaded by the seller\n",
    "'''"
   ]
  },
  {
   "cell_type": "code",
   "execution_count": 3,
   "metadata": {},
   "outputs": [
    {
     "name": "stdout",
     "output_type": "stream",
     "text": [
      "Index(['itemid', 'shopid', 'item_name', 'item_description', 'item_variation',\n",
      "       'price', 'stock', 'category', 'cb_option', 'is_preferred', 'sold_count',\n",
      "       'item_creation_date'],\n",
      "      dtype='object')\n"
     ]
    }
   ],
   "source": [
    "raw_data = data\n",
    "#Assign all column names to a variable named “columns”\n",
    "columns = raw_data.columns\n",
    "print(columns)"
   ]
  },
  {
   "cell_type": "code",
   "execution_count": 17,
   "metadata": {},
   "outputs": [
    {
     "name": "stdout",
     "output_type": "stream",
     "text": [
      "unique shops are in the dataset= 7856\n",
      "unique preferred and cross border shops are in the dataset=  158\n",
      "products have zero sold count= 438092\n",
      "Number products were created in the year 2018=  177407\n",
      "Check min date of column creation date= 2018-01-01 02:01:09\n",
      "Check max date of column creation date= 2018-04-09 03:01:01\n"
     ]
    }
   ],
   "source": [
    "#How many unique shops are in the dataset?\n",
    "nb_shop = raw_data['shopid'].nunique()\n",
    "print('unique shops are in the dataset=',nb_shop)\n",
    "\n",
    "#How many unique preferred and cross border shops are in the dataset?\n",
    "nb_shop_pre_cb = raw_data.loc[(raw_data['cb_option']==1) & (raw_data['is_preferred']==1),:]\n",
    "nb_shop_pre_cb = nb_shop_pre_cb['shopid'].nunique()\n",
    "print('unique preferred and cross border shops are in the dataset= ',nb_shop_pre_cb)\n",
    "\n",
    "#How many products have zero sold count?\n",
    "nb_product_sold = raw_data.loc[raw_data['sold_count']==0,:]\n",
    "nb_product_sold.head()\n",
    "nb_product_sold = nb_product_sold['itemid'].nunique()\n",
    "print('products have zero sold count=',nb_product_sold)\n",
    "\n",
    "#How many products were created in the year 2018?\n",
    "nb_product_2018 = raw_data.loc[(raw_data['item_creation_date'] >= '2018-01-01 00:00:00') & (raw_data['item_creation_date'] < '2019-01-01 00:00:00'),:]\n",
    "print('Number products were created in the year 2018= ',nb_product_2018['itemid'].nunique())\n",
    "print('Check min date of column creation date=',nb_product_2018['item_creation_date'].min())\n",
    "print('Check max date of column creation date=',nb_product_2018['item_creation_date'].max())"
   ]
  },
  {
   "cell_type": "code",
   "execution_count": 103,
   "metadata": {},
   "outputs": [
    {
     "name": "stdout",
     "output_type": "stream",
     "text": [
      "shopid that have the largest number of unique products:\n",
      "        shopid  nb_unique_products\n",
      "481  43384791                2034\n",
      "156   6072241                1998\n",
      "365  26974701                1037\n",
      "Top 3 Categories that have the largest number of unique cross-border products:\n",
      "             category  nb_unique_products\n",
      "17   Women's Apparel               80494\n",
      "12  Mobile & Gadgets               58760\n",
      "10        Men's Wear               51795\n"
     ]
    }
   ],
   "source": [
    "#Top 3 Preferred shops’ shopid that have the largest number of unique products\n",
    "top_3_pre = raw_data.loc[(raw_data['is_preferred']==1),:]\n",
    "top_3_pre = top_3_pre.groupby('shopid')['itemid'].nunique()\n",
    "top_3_pre = pd.DataFrame(top_3_pre)\n",
    "top_3_pre = top_3_pre.reset_index()\n",
    "top_3_pre.sort_values([\"itemid\"], axis=0, ascending=False, inplace=True, na_position ='last')\n",
    "top_3_pre = top_3_pre.rename(columns = {'itemid':'nb_unique_products'})\n",
    "print('shopid that have the largest number of unique products:\\n',top_3_pre.iloc[0:3,])\n",
    "\n",
    "#Top 3 Categories that have the largest number of unique cross-border products\n",
    "top_3_cat_cb = raw_data.loc[(raw_data['cb_option']==1),:]\n",
    "top_3_cat_cb = top_3_cat_cb.groupby('category')['itemid'].nunique()\n",
    "top_3_cat_cb = pd.DataFrame(top_3_cat_cb)\n",
    "top_3_cat_cb = top_3_cat_cb.reset_index()\n",
    "top_3_cat_cb.sort_values(by=['itemid'], axis=0, ascending = False, inplace = True, na_position = 'last')\n",
    "top_3_cat_cb = top_3_cat_cb.rename(columns = {'itemid':'nb_unique_products'})\n",
    "print('Top 3 Categories that have the largest number of unique cross-border products:\\n',top_3_cat_cb.iloc[0:3,:])\n",
    "\n"
   ]
  },
  {
   "cell_type": "code",
   "execution_count": 111,
   "metadata": {},
   "outputs": [
    {
     "name": "stdout",
     "output_type": "stream",
     "text": [
      "Top 3 shopid with the highest revenue: \n",
      "         shopid    revenue\n",
      "4842  18796234  177897.79\n",
      "6042  30769353   63491.39\n",
      "6027  30628794   39852.00\n"
     ]
    }
   ],
   "source": [
    "#Find Top 3 shopid with the highest revenue (Assumption: the product price has not been changed.) \n",
    "top_3_revenue = raw_data\n",
    "top_3_revenue['revenue'] = top_3_revenue['price'] * top_3_revenue['sold_count']\n",
    "top_3_revenue = top_3_revenue.groupby('shopid')['revenue'].sum()\n",
    "top_3_revenue= pd.DataFrame(top_3_revenue)\n",
    "top_3_revenue = top_3_revenue.reset_index()\n",
    "top_3_revenue.sort_values(by = ['revenue'],axis=0, ascending = False, inplace = True, na_position='last')\n",
    "print('Top 3 shopid with the highest revenue: \\n',top_3_revenue.iloc[0:3,])"
   ]
  },
  {
   "cell_type": "code",
   "execution_count": 119,
   "metadata": {},
   "outputs": [
    {
     "data": {
      "text/plain": [
       "RangeIndex(start=0, stop=464433, step=1)"
      ]
     },
     "execution_count": 119,
     "metadata": {},
     "output_type": "execute_result"
    }
   ],
   "source": [
    "#Find number of products that have more than 3 variations (do not include products with 3 or fewer variations)\n",
    "raw_data['item_variation'].keys()"
   ]
  },
  {
   "cell_type": "code",
   "execution_count": null,
   "metadata": {},
   "outputs": [],
   "source": [
    "'''\n",
    "Use pandas function to identify duplicated listings within each shop (If listing A and B in shop S have the exactly same product title, product detailed description, and price, both listing A and B are considered as duplicated listings)\n",
    "Mark those duplicated listings with True otherwise False and store the marking result in a new column named “is_duplicated” \n",
    "Find duplicate listings that has less than 2 sold count and store the result in a new excel file named “duplicated_listings.xlsx”\n",
    "Find the preferred shop shopid that have the most number of duplicated listings\n",
    "'''"
   ]
  }
 ],
 "metadata": {
  "kernelspec": {
   "display_name": "Python 3",
   "language": "python",
   "name": "python3"
  },
  "language_info": {
   "codemirror_mode": {
    "name": "ipython",
    "version": 3
   },
   "file_extension": ".py",
   "mimetype": "text/x-python",
   "name": "python",
   "nbconvert_exporter": "python",
   "pygments_lexer": "ipython3",
   "version": "3.7.3"
  }
 },
 "nbformat": 4,
 "nbformat_minor": 2
}
