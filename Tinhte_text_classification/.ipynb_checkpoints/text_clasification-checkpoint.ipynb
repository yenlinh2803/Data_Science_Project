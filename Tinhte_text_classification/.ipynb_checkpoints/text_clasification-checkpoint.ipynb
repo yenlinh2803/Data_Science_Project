{
 "cells": [
  {
   "cell_type": "code",
   "execution_count": 4,
   "metadata": {},
   "outputs": [
    {
     "data": {
      "text/html": [
       "<div>\n",
       "<style>\n",
       "    .dataframe thead tr:only-child th {\n",
       "        text-align: right;\n",
       "    }\n",
       "\n",
       "    .dataframe thead th {\n",
       "        text-align: left;\n",
       "    }\n",
       "\n",
       "    .dataframe tbody tr th {\n",
       "        vertical-align: top;\n",
       "    }\n",
       "</style>\n",
       "<table border=\"1\" class=\"dataframe\">\n",
       "  <thead>\n",
       "    <tr style=\"text-align: right;\">\n",
       "      <th></th>\n",
       "      <th>post_id</th>\n",
       "      <th>keyword</th>\n",
       "      <th>message</th>\n",
       "      <th>post_date</th>\n",
       "      <th>is_question</th>\n",
       "      <th>label</th>\n",
       "    </tr>\n",
       "  </thead>\n",
       "  <tbody>\n",
       "    <tr>\n",
       "      <th>0</th>\n",
       "      <td>52135495</td>\n",
       "      <td>giúp mình</td>\n",
       "      <td>Chào bạn,\\nMình cũngcó sử dụng Yandex để tạo m...</td>\n",
       "      <td>2018-09-01 00:49:42.000</td>\n",
       "      <td>1</td>\n",
       "      <td>yes</td>\n",
       "    </tr>\n",
       "    <tr>\n",
       "      <th>1</th>\n",
       "      <td>52136050</td>\n",
       "      <td>làm sao</td>\n",
       "      <td>Pin còn One Power 5k thì quá ngon nhưng xem xé...</td>\n",
       "      <td>2018-09-01 02:23:39.000</td>\n",
       "      <td>0</td>\n",
       "      <td>no</td>\n",
       "    </tr>\n",
       "    <tr>\n",
       "      <th>2</th>\n",
       "      <td>52136333</td>\n",
       "      <td>giúp mình</td>\n",
       "      <td>Vào giúp mình với.mình xài con 6s qt ios 11.0....</td>\n",
       "      <td>2018-09-01 03:05:22.000</td>\n",
       "      <td>1</td>\n",
       "      <td>yes</td>\n",
       "    </tr>\n",
       "    <tr>\n",
       "      <th>3</th>\n",
       "      <td>52136445</td>\n",
       "      <td>giúp em\\ntư vấn giúp</td>\n",
       "      <td>Như tiêu đề hiện tại do em làm giáo dục phải n...</td>\n",
       "      <td>2018-09-01 03:18:05.000</td>\n",
       "      <td>1</td>\n",
       "      <td>yes</td>\n",
       "    </tr>\n",
       "    <tr>\n",
       "      <th>4</th>\n",
       "      <td>52136817</td>\n",
       "      <td>cho em hỏi</td>\n",
       "      <td>Mọi người ơi cho em hỏi, hôm qua thấy bị lỗi u...</td>\n",
       "      <td>2018-09-01 04:12:43.000</td>\n",
       "      <td>1</td>\n",
       "      <td>yes</td>\n",
       "    </tr>\n",
       "  </tbody>\n",
       "</table>\n",
       "</div>"
      ],
      "text/plain": [
       "    post_id               keyword  \\\n",
       "0  52135495             giúp mình   \n",
       "1  52136050               làm sao   \n",
       "2  52136333             giúp mình   \n",
       "3  52136445  giúp em\\ntư vấn giúp   \n",
       "4  52136817            cho em hỏi   \n",
       "\n",
       "                                             message                post_date  \\\n",
       "0  Chào bạn,\\nMình cũngcó sử dụng Yandex để tạo m...  2018-09-01 00:49:42.000   \n",
       "1  Pin còn One Power 5k thì quá ngon nhưng xem xé...  2018-09-01 02:23:39.000   \n",
       "2  Vào giúp mình với.mình xài con 6s qt ios 11.0....  2018-09-01 03:05:22.000   \n",
       "3  Như tiêu đề hiện tại do em làm giáo dục phải n...  2018-09-01 03:18:05.000   \n",
       "4  Mọi người ơi cho em hỏi, hôm qua thấy bị lỗi u...  2018-09-01 04:12:43.000   \n",
       "\n",
       "   is_question label  \n",
       "0            1   yes  \n",
       "1            0    no  \n",
       "2            1   yes  \n",
       "3            1   yes  \n",
       "4            1   yes  "
      ]
     },
     "execution_count": 4,
     "metadata": {},
     "output_type": "execute_result"
    }
   ],
   "source": [
    "import pandas as pd\n",
    "import numpy as np\n",
    "label = pd.read_csv(\"label_comment_v1.csv\")\n",
    "label.head()"
   ]
  },
  {
   "cell_type": "code",
   "execution_count": 8,
   "metadata": {},
   "outputs": [
    {
     "data": {
      "text/plain": [
       "(615, 6)"
      ]
     },
     "execution_count": 8,
     "metadata": {},
     "output_type": "execute_result"
    }
   ],
   "source": [
    "label.nunique()\n",
    "label.shape # (615, 6)"
   ]
  },
  {
   "cell_type": "code",
   "execution_count": 14,
   "metadata": {},
   "outputs": [
    {
     "data": {
      "text/plain": [
       "post_id         int64\n",
       "keyword        object\n",
       "message        object\n",
       "post_date      object\n",
       "is_question     int64\n",
       "label          object\n",
       "dtype: object"
      ]
     },
     "execution_count": 14,
     "metadata": {},
     "output_type": "execute_result"
    }
   ],
   "source": [
    "label.describe()\n",
    "label.dtypes"
   ]
  },
  {
   "cell_type": "code",
   "execution_count": 18,
   "metadata": {},
   "outputs": [
    {
     "data": {
      "text/plain": [
       "239"
      ]
     },
     "execution_count": 18,
     "metadata": {},
     "output_type": "execute_result"
    }
   ],
   "source": [
    "label[label.is_question==1]['is_question'].count() #376\n",
    "label[label.is_question==0]['is_question'].count() #239"
   ]
  },
  {
   "cell_type": "code",
   "execution_count": null,
   "metadata": {
    "collapsed": true
   },
   "outputs": [],
   "source": []
  }
 ],
 "metadata": {
  "kernelspec": {
   "display_name": "Python 2",
   "language": "python",
   "name": "python2"
  },
  "language_info": {
   "codemirror_mode": {
    "name": "ipython",
    "version": 2
   },
   "file_extension": ".py",
   "mimetype": "text/x-python",
   "name": "python",
   "nbconvert_exporter": "python",
   "pygments_lexer": "ipython2",
   "version": "2.7.14"
  }
 },
 "nbformat": 4,
 "nbformat_minor": 2
}
